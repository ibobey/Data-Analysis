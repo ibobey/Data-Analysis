{
 "cells": [
  {
   "cell_type": "markdown",
   "id": "0cb8b840",
   "metadata": {},
   "source": [
    "<center> <h1 style='color:magenta'> Black Friday Sales Analysis </h1> </center>"
   ]
  },
  {
   "cell_type": "code",
   "execution_count": null,
   "id": "bb94dee3",
   "metadata": {},
   "outputs": [],
   "source": [
    "import pandas as pd\n",
    "import seaborn as sns\n",
    "import matplotlib.pyplot as plt\n",
    "import numpy as np"
   ]
  },
  {
   "cell_type": "code",
   "execution_count": null,
   "id": "47bfee23",
   "metadata": {},
   "outputs": [],
   "source": [
    "sns.set_theme(\n",
    "    context='notebook',\n",
    "    style='white',\n",
    "    palette='pastel'\n",
    ")"
   ]
  },
  {
   "cell_type": "markdown",
   "id": "8fe51395",
   "metadata": {},
   "source": [
    "<center> <h2 style='color:dodgerblue'> General Information About Data </h2></center>"
   ]
  },
  {
   "cell_type": "code",
   "execution_count": null,
   "id": "32d9d43f",
   "metadata": {},
   "outputs": [],
   "source": [
    "dataset = pd.read_csv(\"train.csv\")"
   ]
  },
  {
   "cell_type": "code",
   "execution_count": null,
   "id": "58964049",
   "metadata": {},
   "outputs": [],
   "source": [
    "dataset.head()"
   ]
  },
  {
   "cell_type": "code",
   "execution_count": null,
   "id": "9fd03733",
   "metadata": {},
   "outputs": [],
   "source": [
    "dataset.shape"
   ]
  },
  {
   "cell_type": "code",
   "execution_count": null,
   "id": "45bbab94",
   "metadata": {},
   "outputs": [],
   "source": [
    "dataset.info()"
   ]
  },
  {
   "cell_type": "code",
   "execution_count": null,
   "id": "4857fcbe",
   "metadata": {},
   "outputs": [],
   "source": [
    "dataset.describe()"
   ]
  },
  {
   "cell_type": "code",
   "execution_count": null,
   "id": "efefff66",
   "metadata": {},
   "outputs": [],
   "source": [
    "# dataset.duplicated()\n",
    "dataset.duplicated().value_counts()"
   ]
  },
  {
   "cell_type": "code",
   "execution_count": null,
   "id": "1ebcd5d1",
   "metadata": {},
   "outputs": [],
   "source": [
    "dataset.columns"
   ]
  },
  {
   "cell_type": "code",
   "execution_count": null,
   "id": "455613d0",
   "metadata": {},
   "outputs": [],
   "source": [
    "dataset.rename(columns=str.lower, inplace=True)"
   ]
  },
  {
   "cell_type": "code",
   "execution_count": null,
   "id": "488cf51c",
   "metadata": {},
   "outputs": [],
   "source": [
    "dataset.columns"
   ]
  },
  {
   "cell_type": "markdown",
   "id": "1ca8a6b9",
   "metadata": {},
   "source": [
    "<center> <h2 style='color:dodgerblue'> Specific Information About Columns </h2></center>"
   ]
  },
  {
   "cell_type": "code",
   "execution_count": null,
   "id": "7a54d14d",
   "metadata": {},
   "outputs": [],
   "source": [
    "dataset.user_id"
   ]
  },
  {
   "cell_type": "code",
   "execution_count": null,
   "id": "3b3329cf",
   "metadata": {},
   "outputs": [],
   "source": [
    "len(dataset.user_id.unique())"
   ]
  },
  {
   "cell_type": "code",
   "execution_count": null,
   "id": "ee6f834f",
   "metadata": {},
   "outputs": [],
   "source": []
  },
  {
   "cell_type": "code",
   "execution_count": null,
   "id": "9696f664",
   "metadata": {},
   "outputs": [],
   "source": [
    "dataset.product_id"
   ]
  },
  {
   "cell_type": "code",
   "execution_count": null,
   "id": "0d49d82b",
   "metadata": {},
   "outputs": [],
   "source": [
    "len(dataset.product_id.unique())"
   ]
  },
  {
   "cell_type": "code",
   "execution_count": null,
   "id": "d8f82491",
   "metadata": {},
   "outputs": [],
   "source": []
  },
  {
   "cell_type": "code",
   "execution_count": null,
   "id": "c43d3024",
   "metadata": {},
   "outputs": [],
   "source": [
    "dataset.gender.unique()"
   ]
  },
  {
   "cell_type": "code",
   "execution_count": null,
   "id": "ae8f1cc5",
   "metadata": {},
   "outputs": [],
   "source": []
  },
  {
   "cell_type": "code",
   "execution_count": null,
   "id": "e2900d9c",
   "metadata": {},
   "outputs": [],
   "source": [
    "dataset.age.unique()"
   ]
  },
  {
   "cell_type": "code",
   "execution_count": null,
   "id": "e9459aa7",
   "metadata": {},
   "outputs": [],
   "source": []
  },
  {
   "cell_type": "code",
   "execution_count": null,
   "id": "4aea7d02",
   "metadata": {},
   "outputs": [],
   "source": [
    "dataset.occupation.unique()"
   ]
  },
  {
   "cell_type": "code",
   "execution_count": null,
   "id": "b2d58311",
   "metadata": {},
   "outputs": [],
   "source": [
    "len(dataset.occupation.unique())"
   ]
  },
  {
   "cell_type": "markdown",
   "id": "60bb943f",
   "metadata": {},
   "source": [
    "<center> <h2 style='color:dodgerblue'> Nan or Null Values Data </h2></center>"
   ]
  },
  {
   "cell_type": "code",
   "execution_count": null,
   "id": "a300550f",
   "metadata": {},
   "outputs": [],
   "source": [
    "dataset.isna().sum()"
   ]
  },
  {
   "cell_type": "markdown",
   "id": "bca03ea6",
   "metadata": {},
   "source": [
    "<center> <h2 style='color:dodgerblue'> Visulazation </h2></center>"
   ]
  },
  {
   "cell_type": "markdown",
   "id": "c87e6a45",
   "metadata": {},
   "source": [
    "__Purchase Ratio by Gender:__"
   ]
  },
  {
   "cell_type": "code",
   "execution_count": null,
   "id": "6443ff69",
   "metadata": {},
   "outputs": [],
   "source": [
    "females = dataset.loc[dataset.gender == \"F\"]\n",
    "males = dataset.loc[dataset.gender == \"M\"]"
   ]
  },
  {
   "cell_type": "code",
   "execution_count": null,
   "id": "3cf66aab",
   "metadata": {},
   "outputs": [],
   "source": [
    "print(females.purchase.sum())\n",
    "print(males.purchase.sum())"
   ]
  },
  {
   "cell_type": "code",
   "execution_count": null,
   "id": "b6d977c7",
   "metadata": {},
   "outputs": [],
   "source": [
    "plt.bar([\"F\", \"M\"], [females.purchase.sum(), males.purchase.sum()])\n",
    "plt.show()"
   ]
  },
  {
   "cell_type": "markdown",
   "id": "c511ec37",
   "metadata": {},
   "source": [
    "__Marital Status Analtsis:__"
   ]
  },
  {
   "cell_type": "code",
   "execution_count": null,
   "id": "7a5fc416",
   "metadata": {},
   "outputs": [],
   "source": [
    "dataset.loc[dataset.marital_status == 0].head(3)"
   ]
  },
  {
   "cell_type": "code",
   "execution_count": null,
   "id": "c73cb6a2",
   "metadata": {},
   "outputs": [],
   "source": [
    "dataset.loc[dataset.marital_status == 1].head(3)"
   ]
  },
  {
   "cell_type": "code",
   "execution_count": null,
   "id": "a81c2ed2",
   "metadata": {},
   "outputs": [],
   "source": [
    "sns.histplot(dataset.loc[dataset.marital_status == 1]['purchase'], bins=25, kde=True, alpha=0.45)\n",
    "plt.ylim(0,50000)"
   ]
  },
  {
   "cell_type": "code",
   "execution_count": null,
   "id": "e00b78ac",
   "metadata": {},
   "outputs": [],
   "source": [
    "sns.histplot(dataset.loc[dataset.marital_status == 0]['purchase'], bins=25, kde=True, alpha=0.45)\n",
    "plt.ylim(0,50000)"
   ]
  },
  {
   "cell_type": "markdown",
   "id": "5a0c3194",
   "metadata": {},
   "source": [
    "__Occupation Analysis:__"
   ]
  },
  {
   "cell_type": "code",
   "execution_count": null,
   "id": "f64196a7",
   "metadata": {},
   "outputs": [],
   "source": [
    "dataset.occupation.value_counts()"
   ]
  },
  {
   "cell_type": "code",
   "execution_count": null,
   "id": "57280761",
   "metadata": {},
   "outputs": [],
   "source": [
    "dataset.occupation.value_counts().index"
   ]
  },
  {
   "cell_type": "code",
   "execution_count": null,
   "id": "1c9f806d",
   "metadata": {},
   "outputs": [],
   "source": [
    "plt.figure(figsize=(10,10))\n",
    "\n",
    "plt.pie(x=dataset.occupation.value_counts(), \n",
    "        labels=dataset.occupation.value_counts().index)\n",
    "\n",
    "plt.legend()\n",
    "plt.tight_layout()\n",
    "plt.show()"
   ]
  },
  {
   "cell_type": "code",
   "execution_count": null,
   "id": "cd70ada7",
   "metadata": {},
   "outputs": [],
   "source": []
  },
  {
   "cell_type": "code",
   "execution_count": null,
   "id": "5e827cf8",
   "metadata": {},
   "outputs": [],
   "source": [
    "dataset.groupby('occupation')['purchase'].mean()"
   ]
  },
  {
   "cell_type": "code",
   "execution_count": null,
   "id": "00972241",
   "metadata": {},
   "outputs": [],
   "source": [
    "plt.bar(height=dataset.groupby('occupation')['purchase'].mean(),\n",
    "        x=dataset.groupby('occupation')['purchase'].mean().index)"
   ]
  },
  {
   "cell_type": "markdown",
   "id": "09c77ac5",
   "metadata": {},
   "source": [
    "__Age Analysis:__"
   ]
  },
  {
   "cell_type": "code",
   "execution_count": null,
   "id": "915155b1",
   "metadata": {},
   "outputs": [],
   "source": [
    "dataset.age.value_counts()"
   ]
  },
  {
   "cell_type": "code",
   "execution_count": null,
   "id": "cebd0b0a",
   "metadata": {},
   "outputs": [],
   "source": [
    "dataset.age.value_counts().index"
   ]
  },
  {
   "cell_type": "code",
   "execution_count": null,
   "id": "c652a7d8",
   "metadata": {},
   "outputs": [],
   "source": [
    "plt.bar(x=dataset.age.value_counts().index,\n",
    "        height=dataset.age.value_counts())\n",
    "sns.despine()\n",
    "plt.show()"
   ]
  },
  {
   "cell_type": "code",
   "execution_count": null,
   "id": "58e8e3a0",
   "metadata": {},
   "outputs": [],
   "source": [
    "plt.barh(width=dataset.age.value_counts(),\n",
    "         y=dataset.age.value_counts().index)\n",
    "sns.despine()\n",
    "plt.show()"
   ]
  },
  {
   "cell_type": "code",
   "execution_count": null,
   "id": "c040dc90",
   "metadata": {},
   "outputs": [],
   "source": [
    "type(dataset.age.value_counts())"
   ]
  },
  {
   "cell_type": "code",
   "execution_count": null,
   "id": "2d1bcbb1",
   "metadata": {},
   "outputs": [],
   "source": [
    "test_data = pd.DataFrame(\n",
    "    [dataset.age.value_counts().index, dataset.age.value_counts()]).T"
   ]
  },
  {
   "cell_type": "code",
   "execution_count": null,
   "id": "236406bd",
   "metadata": {},
   "outputs": [],
   "source": [
    "test_data.rename(columns={\n",
    "    0: \"Age\",\n",
    "    1: \"Quantity\"\n",
    "}, inplace=True)"
   ]
  },
  {
   "cell_type": "code",
   "execution_count": null,
   "id": "10240c0e",
   "metadata": {},
   "outputs": [],
   "source": [
    "test_data.sort_values(by=\"Age\", \n",
    "                      ascending=True, \n",
    "                      inplace=True)"
   ]
  },
  {
   "cell_type": "code",
   "execution_count": null,
   "id": "469171a0",
   "metadata": {},
   "outputs": [],
   "source": [
    "plt.bar(test_data.Age, test_data.Quantity)\n",
    "sns.despine()\n",
    "plt.show()"
   ]
  },
  {
   "cell_type": "code",
   "execution_count": null,
   "id": "e1d6c0fa",
   "metadata": {},
   "outputs": [],
   "source": []
  }
 ],
 "metadata": {
  "kernelspec": {
   "display_name": "Python 3 (ipykernel)",
   "language": "python",
   "name": "python3"
  },
  "language_info": {
   "codemirror_mode": {
    "name": "ipython",
    "version": 3
   },
   "file_extension": ".py",
   "mimetype": "text/x-python",
   "name": "python",
   "nbconvert_exporter": "python",
   "pygments_lexer": "ipython3",
   "version": "3.11.5"
  }
 },
 "nbformat": 4,
 "nbformat_minor": 5
}
