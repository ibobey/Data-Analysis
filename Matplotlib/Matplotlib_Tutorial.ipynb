{
 "cells": [
  {
   "cell_type": "markdown",
   "id": "0dc06bbd",
   "metadata": {},
   "source": [
    "<center> <h1 style=\"color:magenta\"> Matplotlib Tutorial </h1></center> "
   ]
  },
  {
   "cell_type": "markdown",
   "id": "869de809",
   "metadata": {},
   "source": [
    "<center> <h2 style=\"color:dodgerblue\"> Most Basic Pandas </h2></center> "
   ]
  },
  {
   "cell_type": "markdown",
   "id": "10f2e94b",
   "metadata": {},
   "source": [
    "__Gerekli Kütüphaneler__"
   ]
  },
  {
   "cell_type": "code",
   "execution_count": 43,
   "id": "ee0f2f1c",
   "metadata": {},
   "outputs": [],
   "source": [
    "import pandas as pd\n",
    "import numpy as np\n",
    "import matplotlib.pyplot as plt\n",
    "import seaborn as sns"
   ]
  },
  {
   "cell_type": "markdown",
   "id": "95da2ae1",
   "metadata": {},
   "source": [
    "__Dataset'in Yüklenmesi__"
   ]
  },
  {
   "cell_type": "code",
   "execution_count": 20,
   "id": "5a7fbdaf",
   "metadata": {},
   "outputs": [],
   "source": [
    "dataset = pd.read_csv(r\"FakeData.csv\", delimiter=\";\", encoding=\"utf-8\" )"
   ]
  },
  {
   "cell_type": "markdown",
   "id": "6cc8fc74",
   "metadata": {},
   "source": [
    "__Dataset'in Şekli__"
   ]
  },
  {
   "cell_type": "code",
   "execution_count": 21,
   "id": "6f915bb7",
   "metadata": {},
   "outputs": [
    {
     "data": {
      "text/plain": [
       "(100, 7)"
      ]
     },
     "execution_count": 21,
     "metadata": {},
     "output_type": "execute_result"
    }
   ],
   "source": [
    "dataset.shape"
   ]
  },
  {
   "cell_type": "markdown",
   "id": "05cc0a6d",
   "metadata": {},
   "source": [
    "__Dataset'in Satir ve Sütun Yapısı__"
   ]
  },
  {
   "cell_type": "code",
   "execution_count": 22,
   "id": "8772b0bd",
   "metadata": {},
   "outputs": [
    {
     "name": "stdout",
     "output_type": "stream",
     "text": [
      "<class 'pandas.core.frame.DataFrame'>\n",
      "RangeIndex: 100 entries, 0 to 99\n",
      "Data columns (total 7 columns):\n",
      " #   Column     Non-Null Count  Dtype \n",
      "---  ------     --------------  ----- \n",
      " 0   id         100 non-null    int64 \n",
      " 1   full_name  100 non-null    object\n",
      " 2   class      100 non-null    int64 \n",
      " 3   age        100 non-null    int64 \n",
      " 4   math       100 non-null    int64 \n",
      " 5   bio        100 non-null    int64 \n",
      " 6   chemy      100 non-null    int64 \n",
      "dtypes: int64(6), object(1)\n",
      "memory usage: 5.6+ KB\n"
     ]
    }
   ],
   "source": [
    "#dataset columns and types\n",
    "dataset.info()"
   ]
  },
  {
   "cell_type": "markdown",
   "id": "e2249866",
   "metadata": {},
   "source": [
    "__Dataset'e Genel Bakış__"
   ]
  },
  {
   "cell_type": "code",
   "execution_count": 25,
   "id": "309b9c55",
   "metadata": {},
   "outputs": [
    {
     "data": {
      "text/html": [
       "<div>\n",
       "<style scoped>\n",
       "    .dataframe tbody tr th:only-of-type {\n",
       "        vertical-align: middle;\n",
       "    }\n",
       "\n",
       "    .dataframe tbody tr th {\n",
       "        vertical-align: top;\n",
       "    }\n",
       "\n",
       "    .dataframe thead th {\n",
       "        text-align: right;\n",
       "    }\n",
       "</style>\n",
       "<table border=\"1\" class=\"dataframe\">\n",
       "  <thead>\n",
       "    <tr style=\"text-align: right;\">\n",
       "      <th></th>\n",
       "      <th>id</th>\n",
       "      <th>full_name</th>\n",
       "      <th>class</th>\n",
       "      <th>age</th>\n",
       "      <th>math</th>\n",
       "      <th>bio</th>\n",
       "      <th>chemy</th>\n",
       "    </tr>\n",
       "  </thead>\n",
       "  <tbody>\n",
       "    <tr>\n",
       "      <th>0</th>\n",
       "      <td>1</td>\n",
       "      <td>Ethan Johnson</td>\n",
       "      <td>4</td>\n",
       "      <td>23</td>\n",
       "      <td>46</td>\n",
       "      <td>10</td>\n",
       "      <td>48</td>\n",
       "    </tr>\n",
       "    <tr>\n",
       "      <th>1</th>\n",
       "      <td>2</td>\n",
       "      <td>Olivia Smith</td>\n",
       "      <td>3</td>\n",
       "      <td>18</td>\n",
       "      <td>26</td>\n",
       "      <td>89</td>\n",
       "      <td>44</td>\n",
       "    </tr>\n",
       "    <tr>\n",
       "      <th>2</th>\n",
       "      <td>3</td>\n",
       "      <td>Liam Williams</td>\n",
       "      <td>1</td>\n",
       "      <td>19</td>\n",
       "      <td>96</td>\n",
       "      <td>58</td>\n",
       "      <td>10</td>\n",
       "    </tr>\n",
       "    <tr>\n",
       "      <th>3</th>\n",
       "      <td>4</td>\n",
       "      <td>Emma Brown</td>\n",
       "      <td>1</td>\n",
       "      <td>21</td>\n",
       "      <td>27</td>\n",
       "      <td>9</td>\n",
       "      <td>56</td>\n",
       "    </tr>\n",
       "    <tr>\n",
       "      <th>4</th>\n",
       "      <td>5</td>\n",
       "      <td>Noah Jones</td>\n",
       "      <td>1</td>\n",
       "      <td>26</td>\n",
       "      <td>4</td>\n",
       "      <td>60</td>\n",
       "      <td>44</td>\n",
       "    </tr>\n",
       "    <tr>\n",
       "      <th>5</th>\n",
       "      <td>6</td>\n",
       "      <td>Ava Davis</td>\n",
       "      <td>1</td>\n",
       "      <td>18</td>\n",
       "      <td>5</td>\n",
       "      <td>98</td>\n",
       "      <td>29</td>\n",
       "    </tr>\n",
       "    <tr>\n",
       "      <th>6</th>\n",
       "      <td>7</td>\n",
       "      <td>Lucas Miller</td>\n",
       "      <td>3</td>\n",
       "      <td>20</td>\n",
       "      <td>87</td>\n",
       "      <td>11</td>\n",
       "      <td>88</td>\n",
       "    </tr>\n",
       "    <tr>\n",
       "      <th>7</th>\n",
       "      <td>8</td>\n",
       "      <td>Isabella Wilson</td>\n",
       "      <td>3</td>\n",
       "      <td>22</td>\n",
       "      <td>11</td>\n",
       "      <td>45</td>\n",
       "      <td>56</td>\n",
       "    </tr>\n",
       "    <tr>\n",
       "      <th>8</th>\n",
       "      <td>9</td>\n",
       "      <td>Mason Taylor</td>\n",
       "      <td>4</td>\n",
       "      <td>25</td>\n",
       "      <td>83</td>\n",
       "      <td>13</td>\n",
       "      <td>65</td>\n",
       "    </tr>\n",
       "    <tr>\n",
       "      <th>9</th>\n",
       "      <td>10</td>\n",
       "      <td>Sophia Anderson</td>\n",
       "      <td>3</td>\n",
       "      <td>32</td>\n",
       "      <td>76</td>\n",
       "      <td>60</td>\n",
       "      <td>40</td>\n",
       "    </tr>\n",
       "  </tbody>\n",
       "</table>\n",
       "</div>"
      ],
      "text/plain": [
       "   id        full_name  class  age  math  bio  chemy\n",
       "0   1    Ethan Johnson      4   23    46   10     48\n",
       "1   2     Olivia Smith      3   18    26   89     44\n",
       "2   3    Liam Williams      1   19    96   58     10\n",
       "3   4       Emma Brown      1   21    27    9     56\n",
       "4   5       Noah Jones      1   26     4   60     44\n",
       "5   6        Ava Davis      1   18     5   98     29\n",
       "6   7     Lucas Miller      3   20    87   11     88\n",
       "7   8  Isabella Wilson      3   22    11   45     56\n",
       "8   9     Mason Taylor      4   25    83   13     65\n",
       "9  10  Sophia Anderson      3   32    76   60     40"
      ]
     },
     "execution_count": 25,
     "metadata": {},
     "output_type": "execute_result"
    }
   ],
   "source": [
    "dataset.head(10)"
   ]
  },
  {
   "cell_type": "code",
   "execution_count": 23,
   "id": "10ab1eee",
   "metadata": {},
   "outputs": [
    {
     "data": {
      "text/html": [
       "<div>\n",
       "<style scoped>\n",
       "    .dataframe tbody tr th:only-of-type {\n",
       "        vertical-align: middle;\n",
       "    }\n",
       "\n",
       "    .dataframe tbody tr th {\n",
       "        vertical-align: top;\n",
       "    }\n",
       "\n",
       "    .dataframe thead th {\n",
       "        text-align: right;\n",
       "    }\n",
       "</style>\n",
       "<table border=\"1\" class=\"dataframe\">\n",
       "  <thead>\n",
       "    <tr style=\"text-align: right;\">\n",
       "      <th></th>\n",
       "      <th>id</th>\n",
       "      <th>class</th>\n",
       "      <th>age</th>\n",
       "      <th>math</th>\n",
       "      <th>bio</th>\n",
       "      <th>chemy</th>\n",
       "    </tr>\n",
       "  </thead>\n",
       "  <tbody>\n",
       "    <tr>\n",
       "      <th>count</th>\n",
       "      <td>100.000000</td>\n",
       "      <td>100.000000</td>\n",
       "      <td>100.00000</td>\n",
       "      <td>100.000000</td>\n",
       "      <td>100.00000</td>\n",
       "      <td>100.000000</td>\n",
       "    </tr>\n",
       "    <tr>\n",
       "      <th>mean</th>\n",
       "      <td>50.500000</td>\n",
       "      <td>2.290000</td>\n",
       "      <td>25.86000</td>\n",
       "      <td>49.000000</td>\n",
       "      <td>53.37000</td>\n",
       "      <td>49.250000</td>\n",
       "    </tr>\n",
       "    <tr>\n",
       "      <th>std</th>\n",
       "      <td>29.011492</td>\n",
       "      <td>1.148517</td>\n",
       "      <td>4.48346</td>\n",
       "      <td>29.862649</td>\n",
       "      <td>28.62917</td>\n",
       "      <td>26.766999</td>\n",
       "    </tr>\n",
       "    <tr>\n",
       "      <th>min</th>\n",
       "      <td>1.000000</td>\n",
       "      <td>1.000000</td>\n",
       "      <td>18.00000</td>\n",
       "      <td>1.000000</td>\n",
       "      <td>1.00000</td>\n",
       "      <td>1.000000</td>\n",
       "    </tr>\n",
       "    <tr>\n",
       "      <th>25%</th>\n",
       "      <td>25.750000</td>\n",
       "      <td>1.000000</td>\n",
       "      <td>22.00000</td>\n",
       "      <td>24.000000</td>\n",
       "      <td>32.25000</td>\n",
       "      <td>29.750000</td>\n",
       "    </tr>\n",
       "    <tr>\n",
       "      <th>50%</th>\n",
       "      <td>50.500000</td>\n",
       "      <td>2.000000</td>\n",
       "      <td>26.00000</td>\n",
       "      <td>50.000000</td>\n",
       "      <td>56.00000</td>\n",
       "      <td>50.000000</td>\n",
       "    </tr>\n",
       "    <tr>\n",
       "      <th>75%</th>\n",
       "      <td>75.250000</td>\n",
       "      <td>3.000000</td>\n",
       "      <td>29.25000</td>\n",
       "      <td>74.250000</td>\n",
       "      <td>77.00000</td>\n",
       "      <td>69.500000</td>\n",
       "    </tr>\n",
       "    <tr>\n",
       "      <th>max</th>\n",
       "      <td>100.000000</td>\n",
       "      <td>4.000000</td>\n",
       "      <td>33.00000</td>\n",
       "      <td>100.000000</td>\n",
       "      <td>100.00000</td>\n",
       "      <td>100.000000</td>\n",
       "    </tr>\n",
       "  </tbody>\n",
       "</table>\n",
       "</div>"
      ],
      "text/plain": [
       "               id       class        age        math        bio       chemy\n",
       "count  100.000000  100.000000  100.00000  100.000000  100.00000  100.000000\n",
       "mean    50.500000    2.290000   25.86000   49.000000   53.37000   49.250000\n",
       "std     29.011492    1.148517    4.48346   29.862649   28.62917   26.766999\n",
       "min      1.000000    1.000000   18.00000    1.000000    1.00000    1.000000\n",
       "25%     25.750000    1.000000   22.00000   24.000000   32.25000   29.750000\n",
       "50%     50.500000    2.000000   26.00000   50.000000   56.00000   50.000000\n",
       "75%     75.250000    3.000000   29.25000   74.250000   77.00000   69.500000\n",
       "max    100.000000    4.000000   33.00000  100.000000  100.00000  100.000000"
      ]
     },
     "execution_count": 23,
     "metadata": {},
     "output_type": "execute_result"
    }
   ],
   "source": [
    "dataset.describe()"
   ]
  },
  {
   "cell_type": "markdown",
   "id": "8a6ed06e",
   "metadata": {},
   "source": [
    "<center> <h2 style=\"color:dodgerblue\"> Data Visualization </h2></center> "
   ]
  },
  {
   "cell_type": "code",
   "execution_count": 44,
   "id": "484349ef",
   "metadata": {},
   "outputs": [],
   "source": [
    "sns.set_theme(context='notebook',\n",
    "              style='white',\n",
    "              palette='pastel', )"
   ]
  },
  {
   "cell_type": "markdown",
   "id": "8a2b5c12",
   "metadata": {},
   "source": [
    "__Yaş Dağılımları:__"
   ]
  },
  {
   "cell_type": "code",
   "execution_count": 45,
   "id": "7924a656",
   "metadata": {},
   "outputs": [],
   "source": [
    "data_id = dataset['id']\n",
    "data_age = dataset['age']"
   ]
  },
  {
   "cell_type": "code",
   "execution_count": 48,
   "id": "bc9c00bd",
   "metadata": {},
   "outputs": [
    {
     "data": {
      "image/png": "[encoded data removed]",
      "text/plain": [
       "<Figure size 640x480 with 1 Axes>"
      ]
     },
     "metadata": {},
     "output_type": "display_data"
    }
   ],
   "source": [
    "plt.hist(data_age, bins=12, density=True)\n",
    "sns.despine()\n",
    "plt.show()"
   ]
  },
  {
   "cell_type": "code",
   "execution_count": 55,
   "id": "16310cd0",
   "metadata": {},
   "outputs": [
    {
     "data": {
      "image/png": "[encoded data removed]",
      "text/plain": [
       "<Figure size 640x480 with 1 Axes>"
      ]
     },
     "metadata": {},
     "output_type": "display_data"
    }
   ],
   "source": [
    "plt.hist(data_age, bins=12, density=True, histtype='step', label=\"age\")\n",
    "\n",
    "plt.xlabel(\"age\")\n",
    "plt.ylabel(\"density\")\n",
    "plt.title(\"Age/Density\")\n",
    "plt.grid(True, alpha=0.25, ls='--')\n",
    "\n",
    "plt.legend(loc='best')\n",
    "sns.despine()\n",
    "plt.tight_layout()\n",
    "plt.show()"
   ]
  },
  {
   "cell_type": "markdown",
   "id": "a24cdfbf",
   "metadata": {},
   "source": [
    "__Not Ortalamaları__"
   ]
  },
  {
   "cell_type": "code",
   "execution_count": 62,
   "id": "34296c2d",
   "metadata": {},
   "outputs": [
    {
     "data": {
      "text/plain": [
       "Index(['chemy', 'bio', 'math'], dtype='object')"
      ]
     },
     "execution_count": 62,
     "metadata": {},
     "output_type": "execute_result"
    }
   ],
   "source": [
    "lessons = dataset.columns\n",
    "lessons = lessons[:-4:-1]\n",
    "lessons"
   ]
  },
  {
   "cell_type": "code",
   "execution_count": 79,
   "id": "bf3be327",
   "metadata": {},
   "outputs": [
    {
     "data": {
      "text/plain": [
       "<BarContainer object of 3 artists>"
      ]
     },
     "execution_count": 79,
     "metadata": {},
     "output_type": "execute_result"
    },
    {
     "data": {
      "image/png": "[encoded data removed]",
      "text/plain": [
       "<Figure size 640x480 with 1 Axes>"
      ]
     },
     "metadata": {},
     "output_type": "display_data"
    }
   ],
   "source": [
    "plt.bar(lessons, [\n",
    "    np.mean(dataset.chemy),\n",
    "    np.mean(dataset.bio),\n",
    "    np.mean(dataset.math)\n",
    "])"
   ]
  },
  {
   "cell_type": "code",
   "execution_count": 78,
   "id": "4007fca5",
   "metadata": {},
   "outputs": [
    {
     "data": {
      "image/png": "[encoded data removed]",
      "text/plain": [
       "<Figure size 640x480 with 1 Axes>"
      ]
     },
     "metadata": {},
     "output_type": "display_data"
    }
   ],
   "source": [
    "plt.bar(lessons, [\n",
    "    np.mean(dataset.chemy),\n",
    "    np.mean(dataset.bio),\n",
    "    np.mean(dataset.math)\n",
    "],\n",
    "    color=\"m\",\n",
    "    label='mark')\n",
    "\n",
    "plt.ylim(0, 100)\n",
    "plt.legend(loc='best')\n",
    "plt.grid(True, alpha=0.35, ls=\"-.\")\n",
    "\n",
    "sns.despine()\n",
    "plt.show()"
   ]
  },
  {
   "cell_type": "code",
   "execution_count": null,
   "id": "94f89c2d",
   "metadata": {},
   "outputs": [],
   "source": []
  }
 ],
 "metadata": {
  "kernelspec": {
   "display_name": "Python 3 (ipykernel)",
   "language": "python",
   "name": "python3"
  },
  "language_info": {
   "codemirror_mode": {
    "name": "ipython",
    "version": 3
   },
   "file_extension": ".py",
   "mimetype": "text/x-python",
   "name": "python",
   "nbconvert_exporter": "python",
   "pygments_lexer": "ipython3",
   "version": "3.11.5"
  }
 },
 "nbformat": 4,
 "nbformat_minor": 5
}
